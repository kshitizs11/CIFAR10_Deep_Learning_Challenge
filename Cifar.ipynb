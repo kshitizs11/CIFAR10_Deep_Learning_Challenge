{
  "nbformat": 4,
  "nbformat_minor": 0,
  "metadata": {
    "colab": {
      "name": "Cifar",
      "provenance": [],
      "collapsed_sections": [],
      "include_colab_link": true
    },
    "kernelspec": {
      "name": "python3",
      "display_name": "Python 3"
    },
    "accelerator": "GPU"
  },
  "cells": [
    {
      "cell_type": "markdown",
      "metadata": {
        "id": "view-in-github",
        "colab_type": "text"
      },
      "source": [
        "<a href=\"https://colab.research.google.com/github/kshitizs11/CIFAR10_Deep_Learning_Challenge/blob/master/Cifar.ipynb\" target=\"_parent\"><img src=\"https://colab.research.google.com/assets/colab-badge.svg\" alt=\"Open In Colab\"/></a>"
      ]
    },
    {
      "cell_type": "code",
      "metadata": {
        "id": "V7xMVtOF6DvM"
      },
      "source": [
        "import keras\n",
        "from keras.datasets import cifar10\n",
        "import pandas as pd"
      ],
      "execution_count": null,
      "outputs": []
    },
    {
      "cell_type": "code",
      "metadata": {
        "id": "NHwtHJ9P6QgV"
      },
      "source": [
        "(X_train, y_train),(X_test, y_test) = cifar10.load_data()"
      ],
      "execution_count": null,
      "outputs": []
    },
    {
      "cell_type": "code",
      "metadata": {
        "id": "s3l9p7kO6aaY",
        "colab": {
          "base_uri": "https://localhost:8080/"
        },
        "outputId": "1a9a7683-01a4-4e9b-f026-9ddacace8e55"
      },
      "source": [
        "X_train.shape"
      ],
      "execution_count": null,
      "outputs": [
        {
          "output_type": "execute_result",
          "data": {
            "text/plain": [
              "(50000, 32, 32, 3)"
            ]
          },
          "metadata": {
            "tags": []
          },
          "execution_count": 3
        }
      ]
    },
    {
      "cell_type": "code",
      "metadata": {
        "id": "mcVuV7MH7A2h",
        "colab": {
          "base_uri": "https://localhost:8080/"
        },
        "outputId": "e20d4675-cbfd-4daf-b6dc-6532c5f4b319"
      },
      "source": [
        "y_train.shape"
      ],
      "execution_count": null,
      "outputs": [
        {
          "output_type": "execute_result",
          "data": {
            "text/plain": [
              "(50000, 1)"
            ]
          },
          "metadata": {
            "tags": []
          },
          "execution_count": 4
        }
      ]
    },
    {
      "cell_type": "code",
      "metadata": {
        "id": "UcbhkkoQ7IE5",
        "colab": {
          "base_uri": "https://localhost:8080/"
        },
        "outputId": "9cafc7aa-661c-419b-8661-f4bd6b9e9a6a"
      },
      "source": [
        "X_test.shape"
      ],
      "execution_count": null,
      "outputs": [
        {
          "output_type": "execute_result",
          "data": {
            "text/plain": [
              "(10000, 32, 32, 3)"
            ]
          },
          "metadata": {
            "tags": []
          },
          "execution_count": 5
        }
      ]
    },
    {
      "cell_type": "code",
      "metadata": {
        "id": "qHhGbQRr7Jmz"
      },
      "source": [
        "import matplotlib.pyplot as plt\n",
        "import numpy as np"
      ],
      "execution_count": null,
      "outputs": []
    },
    {
      "cell_type": "code",
      "metadata": {
        "id": "VU200aSj7WE8"
      },
      "source": [
        "def drawImg(img):\n",
        "  plt.imshow(img.reshape(32,32,3))\n",
        "  plt.show()"
      ],
      "execution_count": null,
      "outputs": []
    },
    {
      "cell_type": "code",
      "metadata": {
        "id": "UAdRyCJP7eiT",
        "colab": {
          "base_uri": "https://localhost:8080/",
          "height": 266
        },
        "outputId": "16236712-029f-4473-b2bb-30ba15500e97"
      },
      "source": [
        "drawImg(X_train[1000])"
      ],
      "execution_count": null,
      "outputs": [
        {
          "output_type": "display_data",
          "data": {
            "image/png": "[encoded data removed]",
            "text/plain": [
              "<Figure size 432x288 with 1 Axes>"
            ]
          },
          "metadata": {
            "tags": [],
            "needs_background": "light"
          }
        }
      ]
    },
    {
      "cell_type": "code",
      "metadata": {
        "id": "s7i6tr0g7iuI",
        "colab": {
          "base_uri": "https://localhost:8080/"
        },
        "outputId": "ad00dfa4-1a42-4f60-9cd0-c5b5ade1842b"
      },
      "source": [
        "y_train[450]"
      ],
      "execution_count": null,
      "outputs": [
        {
          "output_type": "execute_result",
          "data": {
            "text/plain": [
              "array([5], dtype=uint8)"
            ]
          },
          "metadata": {
            "tags": []
          },
          "execution_count": 9
        }
      ]
    },
    {
      "cell_type": "markdown",
      "metadata": {
        "id": "NfPHJaiR722S"
      },
      "source": [
        "# CNN "
      ]
    },
    {
      "cell_type": "code",
      "metadata": {
        "id": "YviefGjC7x1F"
      },
      "source": [
        "from keras.models import Sequential\n",
        "from keras.layers import Dense, MaxPool2D, Conv2D, Dropout, Flatten\n",
        "from tensorflow.keras.utils import to_categorical"
      ],
      "execution_count": null,
      "outputs": []
    },
    {
      "cell_type": "code",
      "metadata": {
        "id": "rilZXpPX7rBr",
        "colab": {
          "base_uri": "https://localhost:8080/"
        },
        "outputId": "2ad5f423-a04f-4700-99f5-150cf8818177"
      },
      "source": [
        "model = Sequential()\n",
        "model.add(Conv2D(filters=64, kernel_size=(3,3) ,activation='relu', input_shape=(32,32,3)))\n",
        "model.add(Conv2D(filters=128, kernel_size=(3,3) ,activation='relu'))\n",
        "model.add(MaxPool2D(pool_size=(2,2)))\n",
        "model.add(Dropout(0.25))\n",
        "model.add(Conv2D(filters=256, kernel_size=(3,3) ,activation='relu'))\n",
        "model.add(MaxPool2D(pool_size=(2,2)))\n",
        "model.add(Dropout(0.3))\n",
        "\n",
        "model.add(Flatten())\n",
        "model.add(Dense(units=512, activation='relu'))\n",
        "model.add(Dropout(0.5))\n",
        "model.add(Dense(units=10, activation='softmax'))\n",
        "model.summary()"
      ],
      "execution_count": null,
      "outputs": [
        {
          "output_type": "stream",
          "text": [
            "Model: \"sequential\"\n",
            "_________________________________________________________________\n",
            "Layer (type)                 Output Shape              Param #   \n",
            "=================================================================\n",
            "conv2d (Conv2D)              (None, 30, 30, 64)        1792      \n",
            "_________________________________________________________________\n",
            "conv2d_1 (Conv2D)            (None, 28, 28, 128)       73856     \n",
            "_________________________________________________________________\n",
            "max_pooling2d (MaxPooling2D) (None, 14, 14, 128)       0         \n",
            "_________________________________________________________________\n",
            "dropout (Dropout)            (None, 14, 14, 128)       0         \n",
            "_________________________________________________________________\n",
            "conv2d_2 (Conv2D)            (None, 12, 12, 256)       295168    \n",
            "_________________________________________________________________\n",
            "max_pooling2d_1 (MaxPooling2 (None, 6, 6, 256)         0         \n",
            "_________________________________________________________________\n",
            "dropout_1 (Dropout)          (None, 6, 6, 256)         0         \n",
            "_________________________________________________________________\n",
            "flatten (Flatten)            (None, 9216)              0         \n",
            "_________________________________________________________________\n",
            "dense (Dense)                (None, 512)               4719104   \n",
            "_________________________________________________________________\n",
            "dropout_2 (Dropout)          (None, 512)               0         \n",
            "_________________________________________________________________\n",
            "dense_1 (Dense)              (None, 10)                5130      \n",
            "=================================================================\n",
            "Total params: 5,095,050\n",
            "Trainable params: 5,095,050\n",
            "Non-trainable params: 0\n",
            "_________________________________________________________________\n"
          ],
          "name": "stdout"
        }
      ]
    },
    {
      "cell_type": "code",
      "metadata": {
        "id": "3vwhz3ys9o58"
      },
      "source": [
        "y_test = to_categorical(y_test)\n",
        "y_train  = to_categorical(y_train)"
      ],
      "execution_count": null,
      "outputs": []
    },
    {
      "cell_type": "code",
      "metadata": {
        "id": "ezUPTIxH-Itj"
      },
      "source": [
        "import tensorflow as tf\n",
        "opt = tf.keras.optimizers.Adam(learning_rate=0.00005)\n",
        "model.compile(optimizer=opt, loss='categorical_crossentropy', metrics=['accuracy'])"
      ],
      "execution_count": null,
      "outputs": []
    },
    {
      "cell_type": "code",
      "metadata": {
        "id": "AhcAEQZg-LCA"
      },
      "source": [
        "X_train = X_train.reshape(-1,32,32,3)\n",
        "X_test = X_test.reshape(-1, 32,32, 3)"
      ],
      "execution_count": null,
      "outputs": []
    },
    {
      "cell_type": "code",
      "metadata": {
        "id": "E-CDkIv4-kDY",
        "colab": {
          "base_uri": "https://localhost:8080/"
        },
        "outputId": "c8c44c65-f4bd-4f94-ed9b-df2a12cbb123"
      },
      "source": [
        "hist = model.fit(X_train, y_train, batch_size=64, epochs = 75, validation_split=0.2)"
      ],
      "execution_count": null,
      "outputs": [
        {
          "output_type": "stream",
          "text": [
            "Epoch 1/75\n",
            "625/625 [==============================] - 37s 28ms/step - loss: 8.8292 - accuracy: 0.1287 - val_loss: 2.0669 - val_accuracy: 0.2452\n",
            "Epoch 2/75\n",
            "625/625 [==============================] - 17s 27ms/step - loss: 2.1221 - accuracy: 0.1955 - val_loss: 1.8120 - val_accuracy: 0.3260\n",
            "Epoch 3/75\n",
            "625/625 [==============================] - 17s 27ms/step - loss: 1.9195 - accuracy: 0.2759 - val_loss: 1.5785 - val_accuracy: 0.4393\n",
            "Epoch 4/75\n",
            "625/625 [==============================] - 17s 27ms/step - loss: 1.7158 - accuracy: 0.3595 - val_loss: 1.4492 - val_accuracy: 0.4853\n",
            "Epoch 5/75\n",
            "625/625 [==============================] - 17s 27ms/step - loss: 1.5789 - accuracy: 0.4212 - val_loss: 1.3455 - val_accuracy: 0.5301\n",
            "Epoch 6/75\n",
            "625/625 [==============================] - 17s 27ms/step - loss: 1.4838 - accuracy: 0.4592 - val_loss: 1.2679 - val_accuracy: 0.5561\n",
            "Epoch 7/75\n",
            "625/625 [==============================] - 17s 27ms/step - loss: 1.3884 - accuracy: 0.4959 - val_loss: 1.1891 - val_accuracy: 0.5965\n",
            "Epoch 8/75\n",
            "625/625 [==============================] - 17s 27ms/step - loss: 1.2911 - accuracy: 0.5399 - val_loss: 1.1269 - val_accuracy: 0.6156\n",
            "Epoch 9/75\n",
            "625/625 [==============================] - 17s 27ms/step - loss: 1.2169 - accuracy: 0.5717 - val_loss: 1.0758 - val_accuracy: 0.6281\n",
            "Epoch 10/75\n",
            "625/625 [==============================] - 17s 27ms/step - loss: 1.1476 - accuracy: 0.5907 - val_loss: 1.0080 - val_accuracy: 0.6524\n",
            "Epoch 11/75\n",
            "625/625 [==============================] - 17s 27ms/step - loss: 1.0933 - accuracy: 0.6134 - val_loss: 0.9688 - val_accuracy: 0.6708\n",
            "Epoch 12/75\n",
            "625/625 [==============================] - 17s 27ms/step - loss: 1.0338 - accuracy: 0.6345 - val_loss: 0.9493 - val_accuracy: 0.6738\n",
            "Epoch 13/75\n",
            "625/625 [==============================] - 17s 27ms/step - loss: 0.9903 - accuracy: 0.6513 - val_loss: 0.8916 - val_accuracy: 0.6952\n",
            "Epoch 14/75\n",
            "625/625 [==============================] - 17s 27ms/step - loss: 0.9552 - accuracy: 0.6640 - val_loss: 0.8824 - val_accuracy: 0.7021\n",
            "Epoch 15/75\n",
            "625/625 [==============================] - 17s 27ms/step - loss: 0.9065 - accuracy: 0.6799 - val_loss: 0.8445 - val_accuracy: 0.7128\n",
            "Epoch 16/75\n",
            "625/625 [==============================] - 17s 27ms/step - loss: 0.8615 - accuracy: 0.6972 - val_loss: 0.8396 - val_accuracy: 0.7108\n",
            "Epoch 17/75\n",
            "625/625 [==============================] - 17s 27ms/step - loss: 0.8402 - accuracy: 0.7026 - val_loss: 0.7960 - val_accuracy: 0.7270\n",
            "Epoch 18/75\n",
            "625/625 [==============================] - 17s 27ms/step - loss: 0.8072 - accuracy: 0.7174 - val_loss: 0.7854 - val_accuracy: 0.7290\n",
            "Epoch 19/75\n",
            "625/625 [==============================] - 17s 27ms/step - loss: 0.7567 - accuracy: 0.7336 - val_loss: 0.7623 - val_accuracy: 0.7432\n",
            "Epoch 20/75\n",
            "625/625 [==============================] - 17s 27ms/step - loss: 0.7327 - accuracy: 0.7408 - val_loss: 0.7381 - val_accuracy: 0.7432\n",
            "Epoch 21/75\n",
            "625/625 [==============================] - 17s 27ms/step - loss: 0.6983 - accuracy: 0.7533 - val_loss: 0.7162 - val_accuracy: 0.7542\n",
            "Epoch 22/75\n",
            "625/625 [==============================] - 17s 27ms/step - loss: 0.6577 - accuracy: 0.7724 - val_loss: 0.7027 - val_accuracy: 0.7587\n",
            "Epoch 23/75\n",
            "625/625 [==============================] - 17s 27ms/step - loss: 0.6406 - accuracy: 0.7752 - val_loss: 0.6988 - val_accuracy: 0.7570\n",
            "Epoch 24/75\n",
            "625/625 [==============================] - 17s 27ms/step - loss: 0.6184 - accuracy: 0.7801 - val_loss: 0.7036 - val_accuracy: 0.7570\n",
            "Epoch 25/75\n",
            "625/625 [==============================] - 17s 27ms/step - loss: 0.5832 - accuracy: 0.7955 - val_loss: 0.6820 - val_accuracy: 0.7674\n",
            "Epoch 26/75\n",
            "625/625 [==============================] - 17s 27ms/step - loss: 0.5503 - accuracy: 0.8075 - val_loss: 0.6867 - val_accuracy: 0.7668\n",
            "Epoch 27/75\n",
            "625/625 [==============================] - 17s 27ms/step - loss: 0.5413 - accuracy: 0.8093 - val_loss: 0.6565 - val_accuracy: 0.7736\n",
            "Epoch 28/75\n",
            "625/625 [==============================] - 17s 27ms/step - loss: 0.5230 - accuracy: 0.8169 - val_loss: 0.6612 - val_accuracy: 0.7744\n",
            "Epoch 29/75\n",
            "625/625 [==============================] - 17s 27ms/step - loss: 0.4879 - accuracy: 0.8325 - val_loss: 0.6632 - val_accuracy: 0.7730\n",
            "Epoch 30/75\n",
            "625/625 [==============================] - 17s 27ms/step - loss: 0.4744 - accuracy: 0.8324 - val_loss: 0.6476 - val_accuracy: 0.7803\n",
            "Epoch 31/75\n",
            "625/625 [==============================] - 17s 27ms/step - loss: 0.4477 - accuracy: 0.8423 - val_loss: 0.6389 - val_accuracy: 0.7836\n",
            "Epoch 32/75\n",
            "625/625 [==============================] - 17s 27ms/step - loss: 0.4269 - accuracy: 0.8485 - val_loss: 0.6501 - val_accuracy: 0.7857\n",
            "Epoch 33/75\n",
            "625/625 [==============================] - 17s 27ms/step - loss: 0.4156 - accuracy: 0.8554 - val_loss: 0.6397 - val_accuracy: 0.7851\n",
            "Epoch 34/75\n",
            "625/625 [==============================] - 17s 27ms/step - loss: 0.3903 - accuracy: 0.8614 - val_loss: 0.6290 - val_accuracy: 0.7853\n",
            "Epoch 35/75\n",
            "625/625 [==============================] - 17s 27ms/step - loss: 0.3815 - accuracy: 0.8653 - val_loss: 0.6302 - val_accuracy: 0.7889\n",
            "Epoch 36/75\n",
            "625/625 [==============================] - 17s 27ms/step - loss: 0.3583 - accuracy: 0.8734 - val_loss: 0.6377 - val_accuracy: 0.7879\n",
            "Epoch 37/75\n",
            "625/625 [==============================] - 17s 27ms/step - loss: 0.3438 - accuracy: 0.8774 - val_loss: 0.6528 - val_accuracy: 0.7852\n",
            "Epoch 38/75\n",
            "625/625 [==============================] - 17s 27ms/step - loss: 0.3212 - accuracy: 0.8879 - val_loss: 0.6387 - val_accuracy: 0.7898\n",
            "Epoch 39/75\n",
            "625/625 [==============================] - 17s 27ms/step - loss: 0.3160 - accuracy: 0.8881 - val_loss: 0.6423 - val_accuracy: 0.7935\n",
            "Epoch 40/75\n",
            "625/625 [==============================] - 17s 27ms/step - loss: 0.3001 - accuracy: 0.8926 - val_loss: 0.6281 - val_accuracy: 0.7958\n",
            "Epoch 41/75\n",
            "625/625 [==============================] - 17s 27ms/step - loss: 0.2920 - accuracy: 0.8968 - val_loss: 0.6440 - val_accuracy: 0.7941\n",
            "Epoch 42/75\n",
            "625/625 [==============================] - 17s 27ms/step - loss: 0.2773 - accuracy: 0.9033 - val_loss: 0.6641 - val_accuracy: 0.7896\n",
            "Epoch 43/75\n",
            "625/625 [==============================] - 17s 27ms/step - loss: 0.2627 - accuracy: 0.9068 - val_loss: 0.6534 - val_accuracy: 0.7910\n",
            "Epoch 44/75\n",
            "625/625 [==============================] - 17s 27ms/step - loss: 0.2500 - accuracy: 0.9126 - val_loss: 0.6542 - val_accuracy: 0.7959\n",
            "Epoch 45/75\n",
            "625/625 [==============================] - 17s 27ms/step - loss: 0.2422 - accuracy: 0.9164 - val_loss: 0.6657 - val_accuracy: 0.7965\n",
            "Epoch 46/75\n",
            "625/625 [==============================] - 17s 27ms/step - loss: 0.2394 - accuracy: 0.9157 - val_loss: 0.6636 - val_accuracy: 0.7997\n",
            "Epoch 47/75\n",
            "625/625 [==============================] - 17s 27ms/step - loss: 0.2340 - accuracy: 0.9173 - val_loss: 0.6807 - val_accuracy: 0.7963\n",
            "Epoch 48/75\n",
            "625/625 [==============================] - 17s 27ms/step - loss: 0.2228 - accuracy: 0.9212 - val_loss: 0.6683 - val_accuracy: 0.8011\n",
            "Epoch 49/75\n",
            "625/625 [==============================] - 17s 27ms/step - loss: 0.2068 - accuracy: 0.9263 - val_loss: 0.6629 - val_accuracy: 0.8027\n",
            "Epoch 50/75\n",
            "625/625 [==============================] - 17s 27ms/step - loss: 0.1994 - accuracy: 0.9301 - val_loss: 0.6639 - val_accuracy: 0.8002\n",
            "Epoch 51/75\n",
            "625/625 [==============================] - 17s 27ms/step - loss: 0.2001 - accuracy: 0.9302 - val_loss: 0.6715 - val_accuracy: 0.8001\n",
            "Epoch 52/75\n",
            "625/625 [==============================] - 17s 27ms/step - loss: 0.1922 - accuracy: 0.9319 - val_loss: 0.6950 - val_accuracy: 0.7979\n",
            "Epoch 53/75\n",
            "625/625 [==============================] - 17s 27ms/step - loss: 0.1843 - accuracy: 0.9343 - val_loss: 0.7123 - val_accuracy: 0.7976\n",
            "Epoch 54/75\n",
            "625/625 [==============================] - 17s 27ms/step - loss: 0.1741 - accuracy: 0.9380 - val_loss: 0.6835 - val_accuracy: 0.8031\n",
            "Epoch 55/75\n",
            "625/625 [==============================] - 17s 27ms/step - loss: 0.1719 - accuracy: 0.9408 - val_loss: 0.6962 - val_accuracy: 0.8002\n",
            "Epoch 56/75\n",
            "625/625 [==============================] - 17s 27ms/step - loss: 0.1667 - accuracy: 0.9435 - val_loss: 0.7019 - val_accuracy: 0.8009\n",
            "Epoch 57/75\n",
            "625/625 [==============================] - 17s 27ms/step - loss: 0.1648 - accuracy: 0.9428 - val_loss: 0.6931 - val_accuracy: 0.8016\n",
            "Epoch 58/75\n",
            "625/625 [==============================] - 17s 27ms/step - loss: 0.1543 - accuracy: 0.9448 - val_loss: 0.7143 - val_accuracy: 0.8031\n",
            "Epoch 59/75\n",
            "625/625 [==============================] - 17s 28ms/step - loss: 0.1507 - accuracy: 0.9481 - val_loss: 0.7117 - val_accuracy: 0.8030\n",
            "Epoch 60/75\n",
            "625/625 [==============================] - 17s 27ms/step - loss: 0.1467 - accuracy: 0.9484 - val_loss: 0.7282 - val_accuracy: 0.8014\n",
            "Epoch 61/75\n",
            "625/625 [==============================] - 17s 27ms/step - loss: 0.1407 - accuracy: 0.9517 - val_loss: 0.7105 - val_accuracy: 0.8011\n",
            "Epoch 62/75\n",
            "625/625 [==============================] - 17s 27ms/step - loss: 0.1447 - accuracy: 0.9497 - val_loss: 0.7314 - val_accuracy: 0.8018\n",
            "Epoch 63/75\n",
            "625/625 [==============================] - 17s 27ms/step - loss: 0.1399 - accuracy: 0.9524 - val_loss: 0.7324 - val_accuracy: 0.8043\n",
            "Epoch 64/75\n",
            "625/625 [==============================] - 17s 27ms/step - loss: 0.1296 - accuracy: 0.9542 - val_loss: 0.7406 - val_accuracy: 0.8014\n",
            "Epoch 65/75\n",
            "625/625 [==============================] - 17s 27ms/step - loss: 0.1286 - accuracy: 0.9567 - val_loss: 0.7463 - val_accuracy: 0.8023\n",
            "Epoch 66/75\n",
            "625/625 [==============================] - 17s 27ms/step - loss: 0.1285 - accuracy: 0.9550 - val_loss: 0.7296 - val_accuracy: 0.8022\n",
            "Epoch 67/75\n",
            "625/625 [==============================] - 17s 27ms/step - loss: 0.1173 - accuracy: 0.9597 - val_loss: 0.7413 - val_accuracy: 0.8037\n",
            "Epoch 68/75\n",
            "625/625 [==============================] - 17s 27ms/step - loss: 0.1196 - accuracy: 0.9590 - val_loss: 0.7596 - val_accuracy: 0.8018\n",
            "Epoch 69/75\n",
            "625/625 [==============================] - 17s 27ms/step - loss: 0.1162 - accuracy: 0.9598 - val_loss: 0.7491 - val_accuracy: 0.8024\n",
            "Epoch 70/75\n",
            "625/625 [==============================] - 17s 27ms/step - loss: 0.1180 - accuracy: 0.9597 - val_loss: 0.7547 - val_accuracy: 0.8028\n",
            "Epoch 71/75\n",
            "625/625 [==============================] - 17s 27ms/step - loss: 0.1131 - accuracy: 0.9599 - val_loss: 0.7519 - val_accuracy: 0.8051\n",
            "Epoch 72/75\n",
            "625/625 [==============================] - 17s 27ms/step - loss: 0.1072 - accuracy: 0.9627 - val_loss: 0.7827 - val_accuracy: 0.8045\n",
            "Epoch 73/75\n",
            "625/625 [==============================] - 17s 27ms/step - loss: 0.1078 - accuracy: 0.9634 - val_loss: 0.7845 - val_accuracy: 0.7979\n",
            "Epoch 74/75\n",
            "625/625 [==============================] - 17s 27ms/step - loss: 0.1034 - accuracy: 0.9643 - val_loss: 0.7587 - val_accuracy: 0.8054\n",
            "Epoch 75/75\n",
            "625/625 [==============================] - 17s 27ms/step - loss: 0.0959 - accuracy: 0.9668 - val_loss: 0.7942 - val_accuracy: 0.8072\n"
          ],
          "name": "stdout"
        }
      ]
    },
    {
      "cell_type": "code",
      "metadata": {
        "id": "niQGONh3BfgM",
        "colab": {
          "base_uri": "https://localhost:8080/"
        },
        "outputId": "106ba500-e6f7-4e5d-fb7f-b1e8278ad800"
      },
      "source": [
        "model.evaluate(X_test, y_test)"
      ],
      "execution_count": null,
      "outputs": [
        {
          "output_type": "stream",
          "text": [
            "313/313 [==============================] - 2s 7ms/step - loss: 0.8159 - accuracy: 0.8017\n"
          ],
          "name": "stdout"
        },
        {
          "output_type": "execute_result",
          "data": {
            "text/plain": [
              "[0.8159154057502747, 0.8016999959945679]"
            ]
          },
          "metadata": {
            "tags": []
          },
          "execution_count": 18
        }
      ]
    },
    {
      "cell_type": "code",
      "metadata": {
        "id": "mgmN4jL2urC1"
      },
      "source": [
        ""
      ],
      "execution_count": null,
      "outputs": []
    }
  ]
}